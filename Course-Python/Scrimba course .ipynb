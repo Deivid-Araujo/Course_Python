{
 "cells": [
  {
   "cell_type": "markdown",
   "metadata": {},
   "source": [
    "# Variables"
   ]
  },
  {
   "cell_type": "code",
   "execution_count": 21,
   "metadata": {},
   "outputs": [],
   "source": [
    "failed_subjects='2' \n",
    "name='John'\n",
    "print('Dear Mrs Badger')\n",
    "print('Your son ' + name + ' is failing ' + failed_subjects + ' subjects.')\n",
    "print(name + '  will need to redo ' + failed_subjects + '  courses.')\n",
    "name=\"Eric\"\n",
    "print(name + '  is doing well in geography.')"
   ]
  },
  {
   "cell_type": "code",
   "execution_count": null,
   "metadata": {},
   "outputs": [],
   "source": [
    "#Variables e datatypes - Exercise\n",
    "#Create appropriate Variables for Item name, the price \n",
    "#and how many you have in stock\n",
    "item_name = 'widget'\n",
    "price = 23.5\n",
    "inventory = 100\n",
    "is_in_inventory = True\n",
    "print(item_name, price, inventory)"
   ]
  },
  {
   "cell_type": "markdown",
   "metadata": {},
   "source": [
    "# Arithmetic"
   ]
  },
  {
   "cell_type": "code",
   "execution_count": 22,
   "metadata": {},
   "outputs": [],
   "source": [
    "a=6\n",
    "b=2\n",
    "print('Addition : ', a + b)\n",
    "print('Subtraction : ', a - b)\n",
    "print('Multiplication : ', a * b)\n",
    "print('Division (float) : ', a / b)\n",
    "print('Division (floor) : ', a // b) #Dont take float\n",
    "print('Modulus : ', a % b) #Resto da divisão\n",
    "print('Exponent : ', a ** b)"
   ]
  },
  {
   "cell_type": "markdown",
   "metadata": {},
   "source": [
    "# Strings"
   ]
  },
  {
   "cell_type": "code",
   "execution_count": 29,
   "metadata": {},
   "outputs": [],
   "source": [
    "msg='welcome to Python 101: Strings'\n",
    "#    0123456\n",
    "print(msg)\n",
    "print(msg+msg) #Escreve a mensagem duas vezes, junta as duas string\n",
    "print(msg,msg) #Coloca uma do lado da outra\n",
    "print(msg.upper()) #Deixa tudo em maiusculo \n",
    "print(msg.lower()) #Deixa tudo minusculo\n",
    "print(msg.capitalize()) #Deixa a primeira letra maiuscula e o resto minusculo\n",
    "print(msg.title()) #Cada palavra fica com letra maiuscula\n",
    "print(len(msg)) #Conta quantos caracteres tem\n",
    "print(msg.count('Python')) #conta a quatidade de certo elemento\n",
    "\n",
    "#Sliceing = pegar partes da string\n",
    "print(msg[5:10]) #Pega esse intervalo, ou posição\n",
    "print(msg[3:]) #Pega do inico definido até o final de tudo"
   ]
  },
  {
   "cell_type": "code",
   "execution_count": 30,
   "metadata": {},
   "outputs": [],
   "source": [
    "#Exercise string\n",
    "#O verdadeiro desafio era de pegar tudo a partir da frase e espaços\n",
    "\n",
    "sms = \"Welcome to Python 101: Strings\"\n",
    "welcome = sms[:7]\n",
    "#Refazer esse do texto\n",
    "Texto = \"1 \" + welcome + \" ring to tyler\"\n",
    "print(Texto.title())\n",
    "google = sms[28] + sms[4] + sms[4] + sms[28] + sms[2] + sms[1]\n",
    "print(google)\n",
    "print(google[::-1]) #Comando usado para colocar string ao contrario\n",
    "print(sms.find('i'))#Acha o elemento/primeira letra da palavra procurado na string definida\n",
    "sms = sms.replace('Python', 'Java') #Troca a palavra por outra\n",
    "print(sms)\n",
    "print('Java' in sms) #Procura e diz se existe\n",
    "print('Java' not in sms) #Procura e diz se não existe\n",
    "la='''Dear Terry,,\n",
    "You must cut down the mightiest \n",
    "tree in the forest with…\n",
    "a herring! <3'''\n",
    "print(la)"
   ]
  },
  {
   "cell_type": "code",
   "execution_count": 31,
   "metadata": {},
   "outputs": [],
   "source": [
    "name = 'terry'\n",
    "color = 'red'\n",
    "print(f'{name.capitalize()} loves color {color}!')"
   ]
  },
  {
   "cell_type": "markdown",
   "metadata": {},
   "source": [
    "# Input"
   ]
  },
  {
   "cell_type": "code",
   "execution_count": 32,
   "metadata": {},
   "outputs": [],
   "source": [
    "name = input(\"Whats your name?:\")\n",
    "age = input(\"How age are you?:\")\n",
    "print(\"Hello \" + name + '! You are '+ age + ' years old!')"
   ]
  },
  {
   "cell_type": "code",
   "execution_count": 33,
   "metadata": {},
   "outputs": [],
   "source": [
    "#Calculadora de soma\n",
    "num1 = int(input('Digite um numero: '))\n",
    "num2 = int(input (\"Digite outro número: \"))\n",
    "soma = num1+num2\n",
    "print(soma)"
   ]
  },
  {
   "cell_type": "code",
   "execution_count": 42,
   "metadata": {},
   "outputs": [],
   "source": [
    "#Exercise\n",
    "nome = input('Digite o seu primeiro nome: ')\n",
    "distance= float(input('Digite sua distancia em km: '))\n",
    "miles = distance/1.609\n",
    "nome = nome.capitalize()\n",
    "miles = round(miles,1) #Coloca o tanto de numero pos a virgula que voce deseja\n",
    "print(f'Hello, {nome}! Sua distância é de {distance} km. e {miles} miles')"
   ]
  },
  {
   "cell_type": "markdown",
   "metadata": {},
   "source": [
    "# Lists"
   ]
  },
  {
   "cell_type": "code",
   "execution_count": 1,
   "metadata": {},
   "outputs": [
    {
     "output_type": "stream",
     "name": "stdout",
     "text": [
      "['Leo', 'Diego', 'Leomar', 'Antonio', 'Francisca']\nDiego\nFrancisca\n['Leomar', 'Antonio', 'Francisca']\n5\n1\n1\n['Leomar', 'Leo', 'Francisca', 'Diego', 'Antonio']\n"
     ]
    },
    {
     "output_type": "execute_result",
     "data": {
      "text/plain": [
       "True"
      ]
     },
     "metadata": {},
     "execution_count": 1
    }
   ],
   "source": [
    "friends = ['Leo', 'Diego', 'Leomar', 'Antonio', 'Francisca']\n",
    "print(friends)\n",
    "print(friends[1]) #Printa o primeiro elemento da lista\n",
    "print(friends[-1]) #Pega o ultimo\n",
    "print(friends[2:])#Printa do segundo até o último\n",
    "print(len(friends)) #Conta quantos itens tem na lista\n",
    "print(friends.index('Diego')) #Ve qual a posição está o elemento epecificado (começa no 0)\n",
    "print(friends.count('Leo')) #Conta a posição que está o elemento especificado (começa no 1) \n",
    "friends.sort() #Coloca na ordem de menor para maior/alfabetica\n",
    "friends.sort(reverse=True) #Ordem invertida da string \n",
    "print(friends)\n",
    "all(friends)\n",
    "#iNFORMAÇÃO INTERESSANTE: É POSSIVEL CRIAR VARIAS MINI LISTAS DENTRO DE UMA LISTA GRANDE\n",
    "Lista0 = [[1,2,3],[4,5,6],[7,8,9]]\n",
    "Lista0[0][1] #Assim qu pega o item de uma lista dentor de outra lista"
   ]
  },
  {
   "cell_type": "code",
   "execution_count": 24,
   "metadata": {},
   "outputs": [],
   "source": [
    "#Lists\n",
    "friends = ['Leo', 'Diego', 'Leomar', 'Antonio', 'Francisca']\n",
    "cars = [1023,13,454,245,123]\n",
    "print(min(cars)) #Printa o valor minimo de carro\n",
    "print(max(cars)) #Printa o valor maximo de carro\n",
    "print(sum(cars)) #Soma dos itens da lista\n",
    "cars.append(12294) #Adiciona o objeto no ultimo\n",
    "cars.insert(3,123) #Adiciona em um lugar especifico -> PRimeiro a posição, valor a adicionar\n",
    "cars[2] = 13234 #Altera o valor da lista original, trocando pelo valor especificado\n",
    "friends.extend(cars) #Junta as listas na primeira\n",
    "print(friends)\n",
    "cars.remove(123) #Remove um objeto da lista\n",
    "print(cars)\n",
    "friends.pop(3) #Coloca a posição definido ou se vazio na memoria\n",
    "print(friends)\n",
    "friends.clear() #Limpa a lista\n",
    "del friends[0] #del friends -> Deleta um objeto da lista ou ele inteiro excluindo o conchetes \n",
    "print(friends)\n",
    "#Copiar listas\n",
    "new_friends = friends[:]\n",
    "new_friends = list(friends)\n",
    "new_friends = friends.copy()\n",
    "print(new_friends)"
   ]
  },
  {
   "cell_type": "code",
   "execution_count": 34,
   "metadata": {},
   "outputs": [],
   "source": [
    "#Lists - Exercises\n",
    "sales_w1 = [7,3,42,19,15,35,9]\n",
    "sales_w2 = [12,4,26,10,7,28]\n",
    "one_more = sales_w2.append(int(input('Digite um a mais para a segunda semana: ')))\n",
    "sales_w1.extend(sales_w2) #Podia combinar assim tbm: sales = salesw1+ sales_w2 \n",
    "sales = sales_w1 \n",
    "tudo = sum(sales) * 1.5\n",
    "melhor = max(sales) * 1.5\n",
    "pior = min(sales) * 1.5\n",
    "combinado = melhor + pior\n",
    "print('Best day: ${} in lemonades solds'.format(melhor))\n",
    "print('Worst day: ${} in lemonades solds'.format(pior))\n",
    "print(f'Those two weeks ${tudo} in lemonades were solds')\n",
    "print(f'The worst and the best day combined = $ {combinado}')"
   ]
  },
  {
   "cell_type": "markdown",
   "metadata": {},
   "source": [
    "# Split and Join"
   ]
  },
  {
   "cell_type": "code",
   "execution_count": 35,
   "metadata": {},
   "outputs": [],
   "source": [
    "msg ='Welcome to Python 101: Split and Join'\n",
    "csv = 'Eric,John,Michael,Terry,Graham'\n",
    "friends_list = ['Eric','John','Michael','Terry','Graham']\n",
    "print(list(msg)) #Divide a strign em todos os elementos\n",
    "print(msg.split()) #cria uma lista = Divide a string por elemento separados por um argumento escolhido\n",
    "print(csv.split(',')) #Cria uma lista a partir dos criterios\n",
    "print(','.join(friends_list)) #Junta toda a lista no criterio especificado antes do join"
   ]
  },
  {
   "cell_type": "code",
   "execution_count": 43,
   "metadata": {},
   "outputs": [],
   "source": [
    "#Exercise - Split and Join (Try to do without replace)\n",
    "csv = 'Eric,John,Michael,Terry,Graham:TerryG;Brian'\n",
    "friends_list = ['Exercise: fill me with names']\n",
    "# From the list above fill a list(friends_list) properly\n",
    "# with the names of all the friends. One per \"slot\"\n",
    "# you may need to run same command several times\n",
    "# use print() statements to work your way through the exercise\n",
    "\n",
    "csv = (csv.replace(':',',').replace(';',',')).split(',') #Pode fazer dois replaces, e o splt na mesma formula\n",
    "#csv = csv.replace(';',',')\n",
    "#csv = csv.split(',')\n",
    "friends_list = csv\n",
    "print(friends_list)"
   ]
  },
  {
   "cell_type": "markdown",
   "metadata": {},
   "source": [
    "# Tuples"
   ]
  },
  {
   "cell_type": "code",
   "execution_count": 36,
   "metadata": {},
   "outputs": [],
   "source": [
    "#-> faster Lists that we cant change\n",
    "#Não pode usar append, pop, remove\n",
    "friends_list = ['John','Michael','Terry','Eric','Graham']\n",
    "friends_tuple = ('John','Michael','Terry','Eric','Graham')\n",
    "print(friends_list[2:4]) #São o mesmos resultaods, até em buscas\n",
    "print(friends_tuple[2:4])"
   ]
  },
  {
   "cell_type": "markdown",
   "metadata": {},
   "source": [
    "# Sets"
   ]
  },
  {
   "cell_type": "code",
   "execution_count": 37,
   "metadata": {},
   "outputs": [],
   "source": [
    "#-> Listas com conchetes, só pode ter um item do mesmo valor além de ser impossivel de ordenar\n",
    "#è mais rápida que lista, só printa na mesma ordem\n",
    "friends_sets = {'John','Michael','Terry','Eric','Graham', 'Eric'}\n",
    "my_friends_set = {'Reg','Loretta','Colin','Eric','Graham'}\n",
    "\n",
    "#print(friends_sets)\n",
    "print(friends_sets.intersection(my_friends_set)) #Encotra itens que estão nas duas sets\n",
    "print(friends_sets.difference(my_friends_set)) #Encontra oq tem de diferença nos dois sets\n",
    "print(friends_sets.union(my_friends_set)) #Junta as duas sets sem duplicadas\n",
    "#Criando uma set vazia:\n",
    "my_set = set () #{} se criado assimserá um dicionario\n",
    "print(my_set)"
   ]
  },
  {
   "cell_type": "code",
   "execution_count": 44,
   "metadata": {},
   "outputs": [],
   "source": [
    "#Exercise Sets\n",
    "#1. Check if ‘Eric’ and ‘John’ exist in friends\n",
    "#2. combine or add the two sets \n",
    "#3. Find names that are in both sets\n",
    "#4. find names that are only in friends\n",
    "#5. Show only the names who only appear in one of the lists\n",
    "#6. Create a new cars-list without duplicates\n",
    "\n",
    "friends = {'John','Michael','Terry','Eric','Graham'}\n",
    "my_friends = {'Reg','Loretta','Colin','John','Graham'}\n",
    "cars =['900','420','V70','911','996','V90','911','911','S','328','900']\n",
    "print('Eric' in friends  and 'John' in friends)\n",
    "print(friends.union(my_friends)) #friends | my friends\n",
    "print(friends.intersection(my_friends)) #friends & my friends\n",
    "print(friends.difference(my_friends)) #friends - myfriends\n",
    "print(friends ^ my_friends) #Pega oq so tem em  uma lista \n",
    "new_cars = set(cars) #Transformar lista em set\n",
    "print(new_cars)"
   ]
  },
  {
   "cell_type": "markdown",
   "metadata": {},
   "source": [
    "# Functions"
   ]
  },
  {
   "cell_type": "code",
   "execution_count": null,
   "metadata": {},
   "outputs": [],
   "source": [
    "def greeting(name,age=28): #O numero definido é o default, ou seja, se o parametro não for definido na chamada, o valor será o numero\n",
    "    print(\"Hello \" + name + \", you are \" + str(age) + \"!\")\n",
    "    print(f\"Hello {name}, you are {age}!\")\n",
    "\n",
    "name = input(\"Enter your name: \")    \n",
    "greeting(name,32)\n",
    "greeting(name = \"Judith\")"
   ]
  },
  {
   "cell_type": "code",
   "execution_count": 45,
   "metadata": {},
   "outputs": [],
   "source": [
    "#Functions - Exercise\n",
    "def greeting(name, age=28, color = 'red'):\n",
    "    #Greets user with 'name' from 'input box' and 'age', if available, default age is used\n",
    "    print(f'Hello {name.capitalize()}, you will be {plus_age} years old next birthday!')\n",
    "    print(f'We hear you like the color {color}!')\n",
    "\n",
    "name = input('Enter your name: ')\n",
    "age = int(input('Enter your age: '))\n",
    "plus_age = age + 1 \n",
    "color = input('Enter the color you like: ').lower()\n",
    "color = color.lower()\n",
    "greeting(age = 18, name = 'Deivid', color = 'black') #Se você deixar claro pro código, pode deixar em ordem aleatoria\n",
    "#greeting(name, age, color)\n",
    "#greeting('Deivid',18,'black') -> modo cagado\n",
    "\n",
    "# 1. Add new print statement - on a new line\n",
    "#    which says 'We hear you like the color xxx! xxx is a string with color \n",
    "# 2. extend the function with another  input parameter 'color', that defaults to 'red'\n",
    "# 3. Capture the color via an input box as variable:color \n",
    "# 4. Change the 'You are xx!' text to say 'you will be xx+1 years old next birthday \n",
    "#  adding 1 to the age\n",
    "# 5. Capitalize first letter of the 'name', and rest are small caps \n",
    "# 6. Favorite color should be in lowercase"
   ]
  },
  {
   "cell_type": "markdown",
   "metadata": {},
   "source": [
    "# Return"
   ]
  },
  {
   "cell_type": "code",
   "execution_count": 46,
   "metadata": {},
   "outputs": [],
   "source": [
    "def value_added_tax(amount):\n",
    "    amount_tax = amount*0.25\n",
    "    total_amount = amount * 1.25\n",
    "    return [amount,total_amount,amount_tax]\n",
    "    #return amount_tax,price,amount\n",
    "    #return f' O valores são de {amount_tax},{total_amount}, {amount}' \n",
    "price = value_added_tax(amount=100)\n",
    "print(price)\n",
    "    \n",
    "#O return é bom para especificar os itens que voce quer que seja printado ou dado, Caso o retorno não sejacolocado, o valor dado será 'none'    \n",
    "#Dá para retornar em  formato de valor, string e até memso lista/tupla\n"
   ]
  },
  {
   "cell_type": "markdown",
   "metadata": {},
   "source": [
    "# Comparisions"
   ]
  },
  {
   "cell_type": "code",
   "execution_count": 47,
   "metadata": {},
   "outputs": [],
   "source": [
    "# ==. !=. >. <. <=. >=. \n",
    "# 'a' in 'Amanda'. not in\n",
    "#is -> se eles são identicos(se estão ocupandoo mesmo lugar na memoria)\n",
    "a = [2,1,4]\n",
    "b = a\n",
    "print(a is b)\n",
    "print(id(a), id(b)) #id é para ver qual o local da memoria está sendo ocupado"
   ]
  },
  {
   "cell_type": "markdown",
   "metadata": {},
   "source": [
    "# Boolean"
   ]
  },
  {
   "cell_type": "code",
   "execution_count": 48,
   "metadata": {},
   "outputs": [],
   "source": [
    "#Todo objeto em python é igual a 1, com exceção do nº 0 e '',[] etc(nada)\n",
    "a=7\n",
    "b=3\n",
    "print('a == b is', a == b)\n",
    "print('a != b is', a != b)\n",
    "print('a > b is', a > b)\n",
    "print('a < b is', a < b)\n",
    "print('a >= b is', a >= b)\n",
    "print('a <= b is', a <= b)\n",
    "print('o in John is ','o' in 'John') #membership\n",
    "print('o in John is ','o' not in 'John') #non membership\n",
    "print('John is John ','John' is 'John') #identity\n",
    "print('John is not John is ','John' is not 'John') # negative identity"
   ]
  },
  {
   "cell_type": "markdown",
   "metadata": {},
   "source": [
    "# Conditionals"
   ]
  },
  {
   "cell_type": "code",
   "execution_count": 49,
   "metadata": {},
   "outputs": [],
   "source": [
    "is_raining = False\n",
    "is_cold = False\n",
    "print('Good Morning!')\n",
    "if is_raining == True and is_cold == True:\n",
    "    print('Bring an umbrella and a jacket!')\n",
    "elif is_raining == True and not(is_cold): #not(x)é como se o valor recbesse um condiçãoi de negação\n",
    "    print('Bring an umbrella!')\n",
    "elif not(is_raining) and is_cold == True:\n",
    "    print('Bring a jacket!')\n",
    "else:\n",
    "    print('Shirt is a good option!')"
   ]
  },
  {
   "cell_type": "code",
   "execution_count": 50,
   "metadata": {},
   "outputs": [],
   "source": [
    "#Conditionals - Exercise\n",
    "\n",
    "# Create a calculator which handles +,-,*,/ and outputs answer based on the mode/ operator used\n",
    "# Hint: use 3 separate inputs \n",
    "# Bonus: Extend functionality with extra mode so it also does celsius to fahrenheit conversion\n",
    "# formula is: temp in C*9/5 + 32 = temp in f\n",
    "ask = int(input('Press (1) for calculator or (0) to convertor: '))\n",
    "\n",
    "if ask == 1:\n",
    "    count = input('Select the operation you wanna make: ')\n",
    "    num1 = int(input('Please, enter the first number: '))\n",
    "    num2 = int(input('Please, enter the second number: '))\n",
    "    if count == '+':\n",
    "        result = num1+num2\n",
    "    elif count == '-':\n",
    "        result = num1-num2\n",
    "    elif count == '*':\n",
    "        result = num1*num2\n",
    "    elif count == '/':\n",
    "        result = num1/num2\n",
    "    else:\n",
    "        print('Enter a valide operator')\n",
    "    print(f'The result of the count is {result}')\n",
    "elif ask == 0 :\n",
    "    C = float(input('Enter the temperature in Celsius: '))\n",
    "    f = C*9/5 + 32\n",
    "    print(f)\n",
    "else:\n",
    "    print('Enter a valide digit')"
   ]
  },
  {
   "cell_type": "code",
   "execution_count": null,
   "metadata": {},
   "outputs": [],
   "source": [
    "#Ainda não fiz\n",
    "def num_days(month):\n",
    "\n",
    "    if month == 'jan':\n",
    "        print('number of days in',month,'is',31)\n",
    "    elif month == 'feb':\n",
    "        print('number of days in',month,'is',28)\n",
    "    elif month == 'mar':\n",
    "        print('number of days in',month,'is',31)\n",
    "    elif month == 'apr':\n",
    "        print('number of days in',month,'is',30)\n",
    "    elif month == 'may':\n",
    "        print('number of days in',month,'is',31)\n",
    "    elif month == 'jun':\n",
    "        print('number of days in',month,'is',30)\n",
    "    elif month == 'jul':\n",
    "        print('number of days in',month,'is',31)\n",
    "    elif month == 'aug':\n",
    "        print('number of days in',month,'is',31)\n",
    "    elif month == 'sep':\n",
    "        print('number of days in',month,'is',30)\n",
    "    elif month == 'oct':\n",
    "        print('number of days in',month,'is',31)\n",
    "    elif month == 'nov':\n",
    "        print('number of days in',month,'is',30)\n",
    "    elif month == 'dec':\n",
    "        print('number of days in',month,'is',31)\n",
    "\n",
    "num_days('oct')\n",
    "\n",
    "# optimize/shorten the code in the function\n",
    "# try to reduce the number of conditionals     "
   ]
  },
  {
   "cell_type": "markdown",
   "metadata": {},
   "source": [
    "# Loop While"
   ]
  },
  {
   "cell_type": "code",
   "execution_count": 51,
   "metadata": {},
   "outputs": [],
   "source": [
    "#LOOP - While\n",
    "# Three Loop Questions:\n",
    "#1. What do I want to repeat?\n",
    "#  -> message\n",
    "#2. What do I want to change each time?\n",
    "#  -> stars\n",
    "#3. How long should we repeat?\n",
    "#  -> 5 times\n",
    "i = 0\n",
    "while i < 5:\n",
    "  i += 1\n",
    "    print(f'{i}.'+ ('*'*i) + 'Loops are awesome' + ('*'*i))    "
   ]
  },
  {
   "cell_type": "code",
   "execution_count": 52,
   "metadata": {},
   "outputs": [],
   "source": [
    "#While - Exercise\n",
    "# Guess the correct number in 3 guesses. If you don’t get it right after 3 guesses you lose the game. \n",
    "# Give user input box: 1. To capture guesses, \n",
    "print(and input boxes) 1. If user wins 2. If user loses\n",
    "# Tip:( remember you won’t see  print statements durng execution, so If you want to see prints during whle loop, then print to the input box\n",
    "\n",
    "#Modification 1: number 1-100, tell user if guess is too high/low ,and let them have 5-10 guesses.\n",
    "# Tip:( remember you won’t see  print statements during execution, so If you want to see prints during whle loop, print to the input box (This is specific to this platform)\n",
    "certo = 10\n",
    "guess = 0\n",
    "numeros =[]\n",
    "while guess < 3: \n",
    "    guess += 1\n",
    "    num = int(input(f'Coloque o {guess} nº: '))\n",
    "    numeros.append(num)\n",
    "    if num == certo:\n",
    "        print(f'Você conseguiu!{numeros}')\n",
    "        break\n",
    "    if guess == 3 and num != certo:\n",
    "        print(f'Você não conseguiu{numeros}')"
   ]
  },
  {
   "cell_type": "markdown",
   "metadata": {},
   "source": [
    "# Loop for"
   ]
  },
  {
   "cell_type": "code",
   "execution_count": 53,
   "metadata": {},
   "outputs": [],
   "source": [
    "#Loop for\n",
    "for anything in ('ABCDEFGHIJ'): #Comando irá passar por cada objeto/letra definido\n",
    "    print(anything)\n",
    "print('End of the loop')\n",
    "\n",
    "#Voce deve especificar o range de alcance, além de poder escolher onde iniciar o loop. No 3º caso está ditando o passo\n",
    "for something in range(10):\n",
    "for number in range(3,10):\n",
    "for jump in range(3,15,3):\n",
    "    print(jump)\n",
    "print('End of the loop')\n",
    "\n",
    "#Pode-se fazer com listas\n",
    "for name in ['Walace','Matheus','Otávio','Luisa','Maria']:\n",
    "    print(name)\n",
    "friends = ['John','Terry','Eric','Michael','George']\n",
    "for friend in friends:\n",
    "    print(friend)\n",
    "print(\"For Loop done!\")\n",
    "\n",
    "#Loop dentro do loop\n",
    "friends = ['John','Terry','Eric']\n",
    "for friend in friends:\n",
    "    for number in [1,2,3]:\n",
    "        print(friend, number)\n",
    "\n",
    "print(\"For Loop done!\")"
   ]
  },
  {
   "cell_type": "code",
   "execution_count": 1,
   "metadata": {},
   "outputs": [],
   "source": [
    "# Loop for - Exercise\n",
    "\n",
    "names = ['john ClEEse','Eric IDLE','michael']\n",
    "names1 = ['graHam chapman', 'TERRY', 'terry jones']\n",
    "\n",
    "#juntando as duas listas\n",
    "names = names + names1 #names.extend(names1)\n",
    "\n",
    "#Loops for para adicionar os dois novos nomes na lista\n",
    "for number in range(2):\n",
    "    name_add = input('Digite o nome que deseja adicionar: ')\n",
    "    names.append(name_add)\n",
    "    \n",
    "#Imprimir convite para cada um da lista\n",
    "for name in names:\n",
    "    print(f'{name.title()}! You are invited to the party on Saturday.')"
   ]
  },
  {
   "cell_type": "markdown",
   "metadata": {},
   "source": [
    "# Continue x break"
   ]
  },
  {
   "cell_type": "code",
   "execution_count": null,
   "metadata": {},
   "outputs": [],
   "source": [
    "#Continue X Break\n",
    "friends = ['John','Terry','Eric','Michael','George']\n",
    "for friend in friends:\n",
    "    if friend == 'Eric':\n",
    "        print('Found ' + friend + '!')\n",
    "        break #Assim que bater a condição, sairá do loop, se fosse continue, ele continuaria assim como sem nada\n",
    "    print(friend)\n",
    "\n",
    "print(\"For Loop done!\")"
   ]
  },
  {
   "cell_type": "markdown",
   "metadata": {},
   "source": [
    "# Enumerating loops"
   ]
  },
  {
   "cell_type": "code",
   "execution_count": 2,
   "metadata": {},
   "outputs": [],
   "source": [
    "#Podia ter feito com um contador e ir aumentando seu valor no loop\n",
    "friends = ['Brian', 'Judith', 'Reg', 'Loretta', 'Colin']\n",
    "for number, friend in enumerate(friends,1): #Esse numero após o argumento é o nº de onde a cotntagem irá começar\n",
    "    print(number, friend)\n",
    "\n",
    "#Fica em formato de tupla\n",
    "friends = ['Brian', 'Judith', 'Reg', 'Loretta', 'Colin']\n",
    "for friend in enumerate(friends,1):\n",
    "    print(friend)"
   ]
  },
  {
   "cell_type": "markdown",
   "metadata": {},
   "source": [
    "# sort() & sorted()"
   ]
  },
  {
   "cell_type": "code",
   "execution_count": 54,
   "metadata": {},
   "outputs": [],
   "source": [
    "#Função de ordenar algo\n",
    "mylist = [2,8,5,6,1,7]\n",
    "list_sorted = sorted(mylist) #Com sorted, um novo objeto é criado\n",
    "print(list_sorted) \n",
    "print(mylist)\n",
    "mylist.sort()\n",
    "print(mylist) #O .sort altera o objeto não cria outro\n",
    "#Quando feito com uma tupla, ela se torna uma lista:\n",
    "my_tuple = ('a','e','d','v','b','c')\n",
    "print(sorted(my_tuple, reverse=True)) #O reverse inverte a ordem -> print(list(reversed(my_tuple))) = print(my_list[::-1])\n",
    "#Com uma string, ordena cada letra:\n",
    "my_string = 'python'\n",
    "print(sorted(my_string))"
   ]
  },
  {
   "cell_type": "markdown",
   "metadata": {},
   "source": [
    "# Dictionaries e GET"
   ]
  },
  {
   "cell_type": "code",
   "execution_count": 56,
   "metadata": {},
   "outputs": [],
   "source": [
    "#key : values\n",
    "#Não podem ter vários keys iguais, mas values tanto faz\n",
    "movie = {\n",
    "    'title' : 'The life of Deivid',\n",
    "    'year' : 2002,\n",
    "    'cast' : ['Mom','Dad','Brother']\n",
    "}\n",
    "print(movie)\n",
    "print(movie['title']) #Pega o valor da key especificada\n",
    "#Quando procuramos algo que não existe, pode colocar o comando get, \n",
    "#oq resulta no que foi deinfido logo a seguir podendo ser qualquer objeto\n",
    "#Se não especificado, o valor retornado será none\n",
    "print(movie.get('budget','not found')) \n",
    "\n",
    "#Printar só as keys/values\n",
    "print(movie.keys())\n",
    "print(movie.values())\n",
    "\n",
    "#Pritnar so itens(sai em tuplas)\n",
    "print(movie.items())\n",
    "\n",
    "#Loop + Dictionary\n",
    "for key, value in movie.items():\n",
    "  print(key, value)\n",
    "\n",
    "\n",
    "#É possivel alterar o dicionario inteiro:\n",
    "movie.update({'title': 'The long dark', 'year': 1990, 'budget': 1000000})\n",
    "\n",
    "\n",
    "#é Possivel atualizar o dicionario fora dele(inclusive itens que não existem):\n",
    "movie['budget'] = 250000\n",
    "movie['title'] = 'Sharknado'\n",
    "print(movie.get('title')) #O get nesse caso irá atualizar o valor do que foi definido\n",
    "print(movie.get('budget'))\n",
    "\n",
    "#deletar algo do dicionario\n",
    "del movie['year']\n",
    "\n",
    "#Pop algo do dicionario -> Tira algo de algum lugar e manda pra outro(pop)  \n",
    "popp = movie.pop('year')\n",
    "print(popp)\n",
    "\n",
    "print(movie) #Dicionario atualizado após tudo"
   ]
  },
  {
   "cell_type": "code",
   "execution_count": 38,
   "metadata": {},
   "outputs": [],
   "source": [
    "#Dicionarios 2\n",
    "python = {'John':35,'Eric':36,'Michael':35,'Terry':38,'Graham':37,'TerryG':34}\n",
    "holy_grail = {'Arthur':40,'Galahad':35,'Lancelot':39,'Knight of NI':40, 'Zoot':17}\n",
    "life_of_brian = {'Brian':33,'Reg':35,'Stan/Loretta':32,'Biccus Diccus':45}\n",
    "#membership test\n",
    "print('Arthur' in holy_grail)\n",
    "if 'Arthur' not in python:\n",
    "    print('He\\'s not here!')\n",
    "\n",
    "#Método de juntar dicionarios\n",
    "people = {}\n",
    "people1 = {}\n",
    "people2 = {}\n",
    "#Update\n",
    "people.update(python) #Adiciona o valor do dicionario em argumento, se feito varias vezes, vai acrescentando + e + dicionarios dentro de uma só\n",
    "people.update(holy_grail)\n",
    "people.update(life_of_brian)\n",
    "print(sorted(people.items()))\n",
    "#Comprehension\n",
    "for groups in (python,holy_grail,life_of_brian): people1.update(groups)\n",
    "print(sorted(people1.items()))\n",
    "#unpacking \n",
    "people3 = {**python,**holy_grail,**life_of_brian}\n",
    "print(sorted(people3.items()))\n",
    "print(f'Sum of the ages: ', sum(people.values()))"
   ]
  },
  {
   "cell_type": "code",
   "execution_count": 16,
   "metadata": {},
   "outputs": [
    {
     "name": "stdout",
     "output_type": "stream",
     "text": [
      "Bem vindo a loja freelancing Shop! Digite o item que você deseja pegar: {'name': 'freelancing Shop', 'brian': 70, 'black knight': 20, 'biccus diccus': 100, 'grim reaper': 500, 'minstrel': -15}minstrel\n",
      "Bem vindo a loja Antique Shop! Digite o item que você deseja pegar: {'name': 'Antique Shop', 'french castle': 400, 'wooden grail': 3, 'scythe': 150, 'catapult': 75, 'german joke': 5}german joke\n",
      "Bem vindo a loja Pet Shop! Digite o item que você deseja pegar: {'name': 'Pet Shop', 'blue parrot': 10, 'white rabbit': 5, 'newt': 2}blue parrot\n",
      "No seu inventário tem minstrel, german joke, blue parrot. É de graça dessa vez! Aproveite!\n"
     ]
    }
   ],
   "source": [
    "#Exercise - Dictionarie\n",
    "#It’s...not really an adventure game...#Ver 1.0\n",
    "#Your village is being attacked by 'a germanic tribe' and you need to run to the stores and get the right things to save your village, and probably some good looking girl or boy you want to marry. All prices in gold pieces excl. VAT... chop chop!! ze germanz are coming!\n",
    "#The code should allow you to get 1 thing from each store and each item you get should be removed from the store inventory,then do same for next store...\n",
    "# one way to buy by typing the key 'newt' in an input box...or something\n",
    "# at end you should print the 'items' you have taken..in this version you don't have to pay for stuff or add it up\n",
    "\n",
    "#create stores\n",
    "inventario = {}\n",
    "\n",
    "freelancers = {'name':'freelancing Shop','brian': 70, 'black knight':20, 'biccus diccus':100, 'grim reaper':500, 'minstrel':-15}\n",
    "antiques = {'name':'Antique Shop','french castle':400, 'wooden grail':3, 'scythe':150, 'catapult':75, 'german joke':5}\n",
    "pet_shop = {'name':'Pet Shop','blue parrot':10, 'white rabbit':5, 'newt': 2}\n",
    "\n",
    "#Pegar uma coisa de cada loja, e remover do inventario da loja e assim por diante\n",
    "for shop in (freelancers, antiques, pet_shop):\n",
    "    #Como comprar: DIgitante newt no input ou outra fita\n",
    "    item_loja = input(f'Bem vindo a loja {shop[\"name\"]}! Digite o item que você deseja pegar: {shop}').lower()\n",
    "    inventario.update({item_loja: shop.pop(item_loja)})\n",
    "    comprados = ', '.join(list(inventario.keys()))\n",
    "print(f'No seu inventário tem {comprados}. É de graça dessa vez! Aproveite!')\n",
    "    "
   ]
  },
  {
   "cell_type": "code",
   "execution_count": 33,
   "metadata": {},
   "outputs": [],
   "source": [
    "#ver 1.2 add ability to exit a store without buying and go to next by typing 'exit',\n",
    "#and to exit if a nonexistant item is bought(typed)\n",
    "#Add purse with 1000 gold pieces and payment for the items during or at end of code\n",
    "#and show a message about total cost and how much gold you have left\n",
    "#ver 1.4 random bug fix, ' browser compatability', refactoring code... basically being lazy \n",
    "#..stop scrolling TikTok/Facebook! ;-)\n",
    "\n",
    "#Ver 1.5 print inventory before and after purchases as one department_store of stuff(combine inventories from all \n",
    "#stores into one...pretend Big Biz bought all the local stores, and want constant reporting for inventory management...)\n",
    "# as in all games there is a special way to do this that actually makes money and solves the problem...can you find 'them'? Do you know why? May require knowledge of actual python 'lore'\n",
    "\n",
    "inventario = {}\n",
    "freelancers = {'name':'freelancing Shop','brian': 70, 'black knight':20, 'biccus diccus':100, 'grim reaper':500, 'minstrel':-15}\n",
    "antiques = {'name':'Antique Shop','french castle':400, 'wooden grail':3, 'scythe':150, 'catapult':75, 'german joke':5}\n",
    "pet_shop = {'name':'Pet Shop','blue parrot':10, 'white rabbit':5, 'newt': 2}\n",
    "purse = 1000\n",
    "all_store = {}\n",
    "for shop in (freelancers, antiques, pet_shop):\n",
    "        item_loja = input(f'Bem vindo a loja {shop[\"name\"]}! Digite o item que você deseja pegar ou digite \"exit\": {shop}').lower()\n",
    "        if item_loja != 'exit':\n",
    "            inventario.update({item_loja: shop.pop(item_loja)})\n",
    "            preco = sum(list(inventario.values()))\n",
    "            comprados = ', '.join(list(inventario.keys()))\n",
    "            #all_store = all_store.update(item_loja: )\n",
    "            money_resto = purse - preco\n",
    "            print(f\"Inventory: {comprados}\")\n",
    "            print(f'You have {money_resto} golds left')\n",
    "        else:\n",
    "            print(f'Você saiu da loja. Inventário: {comprados}')\n",
    "print(f'No seu inventário tem {comprados}. Custa o total de {preco} gold! Você ainda tem {money_resto} gold!')\n",
    "    \n",
    "#Falta fazer o inventario do dia e a mudança para a noite após as compras (O pop auxilia nisso)"
   ]
  },
  {
   "cell_type": "markdown",
   "metadata": {},
   "source": [
    "# Try, Except, Else, Finally, Raise"
   ]
  },
  {
   "cell_type": "code",
   "execution_count": 27,
   "metadata": {},
   "outputs": [
    {
     "name": "stdout",
     "output_type": "stream",
     "text": [
      "Digite um número entre 1 e 30: 23\n",
      "30 divido por 23 é igual a: 1.3043478260869565\n",
      "**Obrigado por jogar!**\n"
     ]
    }
   ],
   "source": [
    "#Used to put in case of errors happen\n",
    "#try:\n",
    "    #code you want to run\n",
    "#except:\n",
    "    #executed if error occurs\n",
    "#else:\n",
    "    #executed if no error\n",
    "#finally:\n",
    "    #always executed \n",
    "try:\n",
    "    number = int(input('Digite um número entre 1 e 30: '))\n",
    "    result = 30/number\n",
    "    if number > 30:\n",
    "        raise ValueError(number) #Usado para dar o valor de erro para a condição escolhida\n",
    "except ValueError as err: \n",
    "#Especificando o erro que foi causado após o comando, será como uma condição\n",
    "    print(number,'- Bad Value, não está entre 0 e 30 ou não é número')\n",
    "except ZeroDivisionError as err:\n",
    "    #O 'as err' serve para especificar, ou seja dá pra colocar ele dentro da identação do except\n",
    "    print('Erro:', err)\n",
    "except: \n",
    "#O except sozinho é usado para o erro geral, ou seja se não for especificado o erro que ocorrerá, sempre será ele.\n",
    "#Semelhante a condição, ou seja, se bater de cara com o erro e enocntrar com ele, para de achar po outro    \n",
    "    print('Valor inválido')\n",
    "else: #O resultado do que deveria dar, se desse certo, o la de cima\n",
    "    print(f'30 divido por {number} é igual a: {result}')\n",
    "finally: #O que da mesmo se der certo ou errado\n",
    "    print('**Obrigado por jogar!**')"
   ]
  },
  {
   "cell_type": "markdown",
   "metadata": {},
   "source": [
    "# Classes & Objects"
   ]
  },
  {
   "cell_type": "code",
   "execution_count": 13,
   "metadata": {},
   "outputs": [
    {
     "name": "stdout",
     "output_type": "stream",
     "text": [
      "Dois mil e doze  -  2019\n",
      "Title:  The Holy Grail\n",
      "Year of production:  1975\n",
      "IMDB Score:  8.2\n",
      "I have seen it:  True\n",
      "Dois mil e doze The Holy Grail\n",
      "Title:  Dois mil e doze\n",
      "Year of production:  2019\n",
      "IMDB Score:  8.0\n",
      "I have seen it:  True\n"
     ]
    }
   ],
   "source": [
    "#Classes are blueprints\n",
    "#Objects are the actual things you built\n",
    "#variables => attributes\n",
    "#functions => methods\n",
    "class Movie(): #A classe deve ter nome iniciando por maiuscula!\n",
    "    def __init__(self,title,year,imdb_rate,have_seen): \n",
    "    #Função main para definir(def __init__), o self sempre deve ser usado, referencia ao objeto. Os outros, são os demais atributos que serão usados\n",
    "        self.title = title \n",
    "        self.year = year \n",
    "        self.imdb_rate = imdb_rate \n",
    "        self.have_seen = have_seen \n",
    "        \n",
    "    def nice_print(self): #Criação de função no objeto\n",
    "        print(\"Title: \", self.title)\n",
    "        print(\"Year of production: \", self.year)\n",
    "        print(\"IMDB Score: \", self.imdb_rate)\n",
    "        print(\"I have seen it: \", self.have_seen)\n",
    "        \n",
    "film_1 = Movie('Dois mil e doze', 2019, 8.0, True) #Assim que defini o atributo que é formado a partir das funções\n",
    "film_2 = Movie(\"The Holy Grail\",1975,8.2,True)    \n",
    "print(film_1.title,' - ',film_1.year)  #Assim que chama o atributo desejado\n",
    "film_2.nice_print() #  = Movie.nice_print(film_2)\n",
    "#variavel.função, para chamar a função para a variavel, o argumento ta implicito no film2, ou seja, sem necessidade de colocar igual no de cima\n",
    "\n",
    "films = [film_1, film_2] #É possivel criar uma lista a partir dos dados\n",
    "print(film_1.title,film_2.title)\n",
    "films[0].nice_print() #Chamada da função a partir da lista "
   ]
  },
  {
   "cell_type": "code",
   "execution_count": 20,
   "metadata": {},
   "outputs": [
    {
     "name": "stdout",
     "output_type": "stream",
     "text": [
      "Andou 4 passos\n",
      "Classe doutor:\n",
      "Curou 10 pontos de vida\n",
      "Classe lutador:\n",
      "Ganhou 4 pontos de stamina\n",
      "Deu um soco no adversário\n",
      "Classe Mágico:\n",
      "Curou 15 pontos de vida\n",
      "Andou 10 passos\n"
     ]
    }
   ],
   "source": [
    "# Inheritance\n",
    "#Usado quando uma classe herda tudo da outra classe, ou seja:\n",
    "\n",
    "class Pessoa:\n",
    "    def mover(self):\n",
    "        print('Andou 4 passos')\n",
    "    def descanso(self):\n",
    "        print('Ganhou 4 pontos de stamina')\n",
    "class Doctor(Pessoa):\n",
    "    #Aqui fica especificado q a nova classe herdou tudo da antiga, ou seja, é como se fosse um crtl + v nesse novo bloco\n",
    "    #Aqui fica o herdar, ou seja, o doctor é uma pessoa, recebendo todas as instruções da pessoa e talvezz mais\n",
    "    #pass ->  #Comando usado para que o Python passe reto, ou seja, o doctor seria completamente identico ao pessoa, sem nenhum atributo a mais\n",
    "    def health(self):\n",
    "        print('Curou 10 pontos de vida')\n",
    "class Fighter(Pessoa):\n",
    "    def punch(self):\n",
    "        print('Deu um soco no adversário')\n",
    "    def mover(self): #É possível alterar a função herdada, por exemplo, mover() antes er a4 agora será 10\n",
    "        print('Andou 10 passos')\n",
    "        \n",
    "#Detalhes, é possivel criar um objeto que herda de outro, ou seja, um wizard que herda tudo de um medico\n",
    "#Podendi alterar suas funções tbm, ou seja, o health do wizard seria de 15 ponts\n",
    "#Tbm é possivel misturar dois objetos em um só:\n",
    "class Wizard(Doctor,Fighter):\n",
    "#Se ambos os objetos herdados tiverem a mesma função, o python escolherá a função do primeiro objeto\n",
    "    def health(self):\n",
    "        print('Curou 15 pontos de vida')\n",
    "#Criando o personagem que executará as funções\n",
    "personagem_comum = Pessoa()\n",
    "#Chamando a função que será executada\n",
    "personagem_comum.mover()\n",
    "print('Classe doutor:')\n",
    "doutor_ogback = Doctor()\n",
    "doutor_ogback.health()\n",
    "print('Classe lutador:')\n",
    "Baki = Fighter()\n",
    "Baki.descanso()\n",
    "Baki.punch()\n",
    "print('Classe Mágico:')\n",
    "Merlin = Wizard()\n",
    "Merlin.health()\n",
    "Merlin.mover()"
   ]
  },
  {
   "cell_type": "markdown",
   "metadata": {},
   "source": [
    "# Módulos"
   ]
  },
  {
   "cell_type": "code",
   "execution_count": 3,
   "metadata": {},
   "outputs": [
    {
     "name": "stdout",
     "output_type": "stream",
     "text": [
      "3.8.5\n",
      "6\n",
      "8.0\n",
      "Windows\n"
     ]
    }
   ],
   "source": [
    "# Você pode importar para usar tudo oq tem dentro, voce pode importar oq voce saber, eles podem ajudar a resolver problemas\n",
    "#Ex: datetime: Date Objects / random = para nºs e stirngs random / strings para string/ os: operation system/ math: matematica/ browser para interações com browser e etc.\n",
    "#Bom site para modulos: # https://docs.python.org/3/py-modindex.html\n",
    "\n",
    "import platform\n",
    "#print(dir(platform)) #Mostra tudo metodo oq o modulo pode fazer\n",
    "print(platform.python_version())\n",
    "import datetime, string #Pode importar varios separando por virgulas\n",
    "\n",
    "#É possivel alterar o nome do modulo, a partir dai, o modulo sera renomeado e deve ser usado em todo arquivo\n",
    "import math as matematica\n",
    "print(matematica.factorial(3))\n",
    "\n",
    "#É possível voce pegar apenas um metodo de cadsa módulo\n",
    "from math import pow\n",
    "print(pow(2,3)) # não precisando escerver compelto\n",
    "#Pode-se renomear como antes\n",
    "from platform import system as sistema\n",
    "print(sistema())"
   ]
  },
  {
   "cell_type": "markdown",
   "metadata": {},
   "source": [
    "# ZIP & UNZIP"
   ]
  },
  {
   "cell_type": "code",
   "execution_count": 17,
   "metadata": {},
   "outputs": [
    {
     "name": "stdout",
     "output_type": "stream",
     "text": [
      "[('1', 'a', 'John'), ('2', 'b', 'Eric'), ('3', 'c', 'Michael'), ('4', 'd', 'Graham')]\n",
      "('1', '2', '3', '4') ('a', 'b', 'c', 'd') ('John', 'Eric', 'Michael', 'Graham')\n",
      "{'this': 'denna', 'parrot': 'papegojan', 'is': 'är', 'deceased': 'avliden'}\n"
     ]
    }
   ],
   "source": [
    "#O zip irá juntar dois elementos de duas variaveis iterables diferentes. Sendo uma tupla para cada combinação\n",
    "nums = '1234' \n",
    "letters = ['a','b','c','d']\n",
    "names =['John','Eric','Michael','Graham','Joe']\n",
    "combo = dict(zip(nums,letters)) #Irá juntar cada elemento das listas em uma nova lista de tuplas\n",
    "combo1 = list(zip(nums,letters, names))\n",
    "print(combo1)\n",
    "\n",
    "#Unpacking = Unzip\n",
    "num, let, nam = zip(*combo1) #Método usado para unzip\n",
    "print(num,let,nam) #será printado os elemntos em tuplas\n",
    "\n",
    "keys = 'this parrot is deceased'\n",
    "values = 'denna papegojan är avliden'\n",
    "keys = keys.split()\n",
    "values = values.split()\n",
    "dic_en_sv = dict(zip(keys,values)) #= new_dict = {key:value for key,value in zip(keys,values)}\n",
    "print(resultado)"
   ]
  },
  {
   "cell_type": "markdown",
   "metadata": {},
   "source": [
    "# Lambda Functions"
   ]
  },
  {
   "cell_type": "code",
   "execution_count": 19,
   "metadata": {},
   "outputs": [
    {
     "name": "stdout",
     "output_type": "stream",
     "text": [
      "9\n",
      "12\n"
     ]
    }
   ],
   "source": [
    "#Funções de uma linha que voce pode usar uma unica vez ou + de uma se dada o nome\n",
    "#lambda sempre reotrna um valor, diferente de funções normais.\n",
    "#Sem necessidade de ficar colocando o return sempre na função\n",
    "#name = lambda parameter(s): expression\n",
    "\n",
    "square = lambda x: x*x\n",
    "print(square(3))\n",
    "\n",
    "#Pode fazer com + de um parametro\n",
    "double_mult = lambda x,y: 2*x*y\n",
    "print(double_mult(2,3))\n",
    "\n",
    "#Muitas situações vc pode usar a função lambda no lugar de um muitas linhas "
   ]
  },
  {
   "cell_type": "code",
   "execution_count": null,
   "metadata": {},
   "outputs": [],
   "source": [
    "#A função lambda pode ser usada dentro de outra função que pode ser reusadas\n",
    "\n",
    "#Ex: Pagar estacionamento\n",
    "\n",
    "def preço_est(entrada,taxa_hora):\n",
    "\n",
    "    return lambda hora: entrada + taxa_hora * hora\n",
    "\n",
    "usuario_comum = preço_est(10,30)\n",
    "\n",
    "usuario_premium = preço_est(1,25)\n",
    "\n",
    "print(usuario_comum(2))\n",
    "\n",
    "print(usuario_premium(2))\n",
    "\n",
    "#Poderia chamar o valor em uma linha tbm:\n",
    "\n",
    "print(preço_est(1,25)(2)) #Sendo (2) o valor definido como o resultado lambda\n",
    "\n",
    " \n",
    "\n",
    "#Outra função dos lambda: Pode chamar o resultado da função na mesma linha\n",
    "\n",
    "print((lambda x,y,z: x+y+z)(x= 2,y =3,z=4))\n",
    "\n",
    "print((lambda x,y,z: x+y+z)(2,3,4))\n",
    "\n",
    "#As atribuições devem ser posicionais ou seja, o primerio nº reflete na primeira variavel, e assim em diante\n",
    "\n",
    "print((lambda x,y,z=2: x+y+z)(2,3,4))\n",
    "\n",
    "#Quando o valor é especificado, ele vira o valor padrão, ou seja, se não tiver valor nenhum atribuindo, o valor sera smepre aquele, no caso z=2\n",
    "\n",
    "#Dica: sempre coloque o default value no final, ou seja, ultima variavel\n",
    "\n",
    "#Támbém é possivel criar junto a um unpack:\n",
    "\n",
    "print((lambda *args = sum(args))(2,3,4))"
   ]
  },
  {
   "cell_type": "markdown",
   "metadata": {},
   "source": [
    "Falta fazer os exercicios de lambda"
   ]
  },
  {
   "cell_type": "markdown",
   "metadata": {},
   "source": [
    "# Comprehensions - Lists"
   ]
  },
  {
   "cell_type": "code",
   "execution_count": 12,
   "metadata": {},
   "outputs": [
    {
     "name": "stdout",
     "output_type": "stream",
     "text": [
      "[1, 4, 9, 16, 25, 36, 49, 64, 81]\n",
      "[1, 4, 9, 16, 25, 36, 49, 64, 81]\n",
      "[2, 4, 6, 8]\n",
      "[('s', 0), ('s', 1), ('s', 2), ('s', 3), ('p', 0), ('p', 1), ('p', 2), ('p', 3), ('a', 0), ('a', 1), ('a', 2), ('a', 3), ('m', 0), ('m', 1), ('m', 2), ('m', 3)]\n"
     ]
    }
   ],
   "source": [
    "#Tudo oq fazemos com for, podemos fazer com comprehesions em lists\n",
    "numbers = [1,2,3,4,5,6,7,8,9]\n",
    "new_list = []\n",
    "for num in numbers:\n",
    "    new_list.append(num*num)\n",
    "print(new_list)\n",
    "#Versão lists comprehesions:\n",
    "new_list1= [num * num for num in numbers]\n",
    "print(new_list1)\n",
    "\n",
    "#É possível incluir condições no meio\n",
    "# give me a list with num for each num in numbers if num is even\n",
    "list_asked = [num for num in numbers if num%2 == 0] \n",
    "print(list_asked)\n",
    "\n",
    "#É possível incluir + de um item\n",
    "# I want a (letter, num) pair for each letter in 'spam' and each number in '0123'\n",
    "nlist = [(letter,num)for letter in 'spam' for num in range(4)]\n",
    "print(nlist)"
   ]
  },
  {
   "cell_type": "markdown",
   "metadata": {},
   "source": [
    "# Dictionary comprehensions"
   ]
  },
  {
   "cell_type": "code",
   "execution_count": 19,
   "metadata": {},
   "outputs": [
    {
     "name": "stdout",
     "output_type": "stream",
     "text": [
      "[('And Now for Something Completely Different', 1971), ('Monty Python and the Holy Grail', 1975), (\"Monty Python's Life of Brian\", 1979), ('Monty Python Live at the Hollywood Bowl', 1982), (\"Monty Python's The Meaning of Life\", 1983), ('Monty Python Live (Mostly)', 2014)]\n",
      "{'And Now for Something Completely Different': 1971, 'Monty Python and the Holy Grail': 1975, \"Monty Python's Life of Brian\": 1979, 'Monty Python Live at the Hollywood Bowl': 1982, \"Monty Python's The Meaning of Life\": 1983, 'Monty Python Live (Mostly)': 2014}\n",
      "{'Monty Python and the Holy Grail': 1975, \"Monty Python's Life of Brian\": 1979, 'Monty Python Live at the Hollywood Bowl': 1982}\n",
      "[['Johns favorite movie is from: 2014 ,which name is: And Now for Something Completely Different'], ['Erics favorite movie is from: 2014 ,which name is: Monty Python and the Holy Grail'], [\"Michaels favorite movie is from: 2014 ,which name is: Monty Python's Life of Brian\"], ['Grahams favorite movie is from: 2014 ,which name is: Monty Python Live at the Hollywood Bowl'], [\"Terrys favorite movie is from: 2014 ,which name is: Monty Python's The Meaning of Life\"], ['TerryGs favorite movie is from: 2014 ,which name is: Monty Python Live (Mostly)']]\n"
     ]
    }
   ],
   "source": [
    "movies = [\"And Now for Something Completely Different\",\"Monty Python and the Holy Grail\",\n",
    "\"Monty Python's Life of Brian\",\"Monty Python Live at the Hollywood Bowl\",\"Monty Python's The Meaning of Life\",\"Monty Python Live (Mostly)\"]\n",
    "year =[1971,1975,1979,1982,1983,2014]\n",
    "names = ['John','Eric','Michael','Graham','Terry','TerryG']\n",
    "print(list(zip(movies,year)))\n",
    "new_dict = dict()\n",
    "for movie, yr in zip(movies,year):\n",
    "    new_dict[movie] = yr\n",
    "print(new_dict)\n",
    "new_dict2 = {movie: yr for movie, yr in zip(movies,year) if yr < 1983 and movie.startswith('Monty')} #Método = 'Começa com'\n",
    "print(new_dict2)\n",
    "n1 = [[name + \"s favorite movie is from: \"+ str(yr) + ' ,which name is: ' + movie] for name,year,movie in zip(names,year,movies)]\n",
    "print(n1)"
   ]
  },
  {
   "cell_type": "markdown",
   "metadata": {},
   "source": [
    "# Random"
   ]
  },
  {
   "cell_type": "code",
   "execution_count": 27,
   "metadata": {},
   "outputs": [
    {
     "name": "stdout",
     "output_type": "stream",
     "text": [
      "0.6116405858573967\n",
      "6\n",
      "Henrique\n",
      "['ismael', 'Marco', 'Deivid', 'Vinicius', 'Henrique', 'Gesiel']\n"
     ]
    }
   ],
   "source": [
    "#Random é uma biblioteca do python usado para usar objetos aleatorios\n",
    "import random\n",
    "print(random.random()) #Nº float aleatorio entre 1 e 0\n",
    "print(random.randint(1,10)) #Nº inteiro entre valor especificado\n",
    "\n",
    "#Existem vários outros métodos para se usar entre random e nºs\n",
    "#Vamos para strings:\n",
    "friends_list = ['Deivid', 'ismael', 'Marco', 'Gesiel', 'Henrique','Vinicius']\n",
    "\n",
    "#Uso para escolher nome aleatorio em  uma lista\n",
    "print(random.choice(friends_list)) \n",
    "\n",
    "#Embaralha elementos da lista\n",
    "random.shuffle(friends_list) \n",
    "print(friends_list)"
   ]
  },
  {
   "cell_type": "markdown",
   "metadata": {},
   "source": [
    "# Perfomance & Timeit"
   ]
  },
  {
   "cell_type": "code",
   "execution_count": 28,
   "metadata": {},
   "outputs": [
    {
     "name": "stdout",
     "output_type": "stream",
     "text": [
      "Performance and Timeit module\n",
      "0.022841800000151125\n",
      "0.030213499999717897\n",
      "0.0028968999999960943\n"
     ]
    }
   ],
   "source": [
    "#Used to see the permance of a code, is it faster os not than other?\n",
    "#É importante ter um return em suas funções, ou o modulo timeit não irá funcionar\n",
    "import timeit\n",
    "\n",
    "print('Performance and Timeit module')\n",
    "# Experiment with sieve of Eratosthenes\n",
    "def test1():\n",
    "    [x for x in range(1, 151) if not any([x % y == 0 for y in range(2, x)]) and not x == 1]\n",
    "    return(1)\n",
    "def test2():\n",
    "    [x for x in range(2, 151) if not any([x % y == 0 for y in range(2, x)])]\n",
    "def test3():\n",
    "    # Initialize a list\n",
    "    primes = []\n",
    "    for possiblePrime in range(2, 151):\n",
    "    # Assume number is prime until shown it is not.\n",
    "        isPrime = True\n",
    "        for num in range(2, int(possiblePrime ** 0.5) + 1):\n",
    "            if possiblePrime % num == 0:\n",
    "                isPrime = False\n",
    "                break\n",
    "        if isPrime:\n",
    "            primes.append(possiblePrime)\n",
    "    #print(primes)\n",
    "    return(1)\n",
    "\n",
    "print(timeit.timeit('test1()', globals=globals(), number=10))\n",
    "print(timeit.timeit('test2()', globals=globals(), number=10))\n",
    "print(timeit.timeit('test3()', globals=globals(), number=10))\n",
    "#number é o nº de ciclos que irá ocorrer a interação\n",
    "#O resultado abaixo é a perfomance de cada código, quanto menor, melhor, o código está terminadno cada 10 ciclo em x seg."
   ]
  },
  {
   "cell_type": "code",
   "execution_count": null,
   "metadata": {},
   "outputs": [],
   "source": []
  }
 ],
 "metadata": {
  "kernelspec": {
   "name": "python3",
   "display_name": "Python 3.8.3 32-bit"
  },
  "language_info": {
   "codemirror_mode": {
    "name": "ipython",
    "version": 3
   },
   "file_extension": ".py",
   "mimetype": "text/x-python",
   "name": "python",
   "nbconvert_exporter": "python",
   "pygments_lexer": "ipython3",
   "version": "3.8.3"
  },
  "interpreter": {
   "hash": "3241dda2b49e0958ec004243b1c7f3789e71e58e476e2c311a552e4d03d93826"
  }
 },
 "nbformat": 4,
 "nbformat_minor": 4
}